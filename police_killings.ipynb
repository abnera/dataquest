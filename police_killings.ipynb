{
2	 "cells": [
3	  {
4	   "cell_type": "code",
5	   "execution_count": 1,
6	   "metadata": {
7	    "collapsed": false
8	   },
9	   "outputs": [],
10	   "source": [
11	    "import pandas as pd\n",
12	    "police_killings = pd.read_csv(\"police_killings.csv\", encoding=\"ISO_8859_1\")"
13	   ]
14	  },
15	  {
16	   "cell_type": "code",
17	   "execution_count": 2,
18	   "metadata": {
19	    "collapsed": false
20	   },
21	   "outputs": [
22	    {
23	     "data": {
24	      "text/html": [
25	       "<div style=\"max-height:1000px;max-width:1500px;overflow:auto;\">\n",
26	       "<table border=\"1\" class=\"dataframe\">\n",
27	       "  <thead>\n",
28	       "    <tr style=\"text-align: right;\">\n",
29	       "      <th></th>\n",
30	       "      <th>name</th>\n",
31	       "      <th>age</th>\n",
32	       "      <th>gender</th>\n",
33	       "      <th>raceethnicity</th>\n",
34	       "      <th>month</th>\n",
35	       "      <th>day</th>\n",
36	       "      <th>year</th>\n",
37	       "      <th>streetaddress</th>\n",
38	       "      <th>city</th>\n",
39	       "      <th>state</th>\n",
40	       "      <th>...</th>\n",
41	       "      <th>share_hispanic</th>\n",
42	       "      <th>p_income</th>\n",
43	       "      <th>h_income</th>\n",
44	       "      <th>county_income</th>\n",
45	       "      <th>comp_income</th>\n",
46	       "      <th>county_bucket</th>\n",
47	       "      <th>nat_bucket</th>\n",
48	       "      <th>pov</th>\n",
49	       "      <th>urate</th>\n",
50	       "      <th>college</th>\n",
51	       "    </tr>\n",
52	       "  </thead>\n",
53	       "  <tbody>\n",
54	       "    <tr>\n",
55	       "      <th>0</th>\n",
56	       "      <td> A'donte Washington</td>\n",
57	       "      <td> 16</td>\n",
58	       "      <td> Male</td>\n",
59	       "      <td>           Black</td>\n",
60	       "      <td> February</td>\n",
61	       "      <td> 23</td>\n",
62	       "      <td> 2015</td>\n",
63	       "      <td>           Clearview Ln</td>\n",
64	       "      <td>    Millbrook</td>\n",
65	       "      <td> AL</td>\n",
66	       "      <td>...</td>\n",
67	       "      <td>  5.6</td>\n",
68	       "      <td> 28375</td>\n",
69	       "      <td> 51367</td>\n",
70	       "      <td> 54766</td>\n",
71	       "      <td> 0.937936</td>\n",
72	       "      <td> 3</td>\n",
73	       "      <td> 3</td>\n",
74	       "      <td> 14.1</td>\n",
75	       "      <td> 0.097686</td>\n",
76	       "      <td> 0.168510</td>\n",
77	       "    </tr>\n",
78	       "    <tr>\n",
79	       "      <th>1</th>\n",
80	       "      <td>     Aaron Rutledge</td>\n",
81	       "      <td> 27</td>\n",
82	       "      <td> Male</td>\n",
83	       "      <td>           White</td>\n",
84	       "      <td>    April</td>\n",
85	       "      <td>  2</td>\n",
86	       "      <td> 2015</td>\n",
87	       "      <td> 300 block Iris Park Dr</td>\n",
88	       "      <td>    Pineville</td>\n",
89	       "      <td> LA</td>\n",
90	       "      <td>...</td>\n",
91	       "      <td>  0.5</td>\n",
92	       "      <td> 14678</td>\n",
93	       "      <td> 27972</td>\n",
94	       "      <td> 40930</td>\n",
95	       "      <td> 0.683411</td>\n",
96	       "      <td> 2</td>\n",
97	       "      <td> 1</td>\n",
98	       "      <td> 28.8</td>\n",
99	       "      <td> 0.065724</td>\n",
100	       "      <td> 0.111402</td>\n",
101	       "    </tr>\n",
102	       "    <tr>\n",
103	       "      <th>2</th>\n",
104	       "      <td>        Aaron Siler</td>\n",
105	       "      <td> 26</td>\n",
106	       "      <td> Male</td>\n",
107	       "      <td>           White</td>\n",
108	       "      <td>    March</td>\n",
109	       "      <td> 14</td>\n",
110	       "      <td> 2015</td>\n",
111	       "      <td>   22nd Ave and 56th St</td>\n",
112	       "      <td>      Kenosha</td>\n",
113	       "      <td> WI</td>\n",
114	       "      <td>...</td>\n",
115	       "      <td> 16.8</td>\n",
116	       "      <td> 25286</td>\n",
117	       "      <td> 45365</td>\n",
118	       "      <td> 54930</td>\n",
119	       "      <td> 0.825869</td>\n",
120	       "      <td> 2</td>\n",
121	       "      <td> 3</td>\n",
122	       "      <td> 14.6</td>\n",
123	       "      <td> 0.166293</td>\n",
124	       "      <td> 0.147312</td>\n",
125	       "    </tr>\n",
126	       "    <tr>\n",
127	       "      <th>3</th>\n",
128	       "      <td>       Aaron Valdez</td>\n",
129	       "      <td> 25</td>\n",
130	       "      <td> Male</td>\n",
131	       "      <td> Hispanic/Latino</td>\n",
132	       "      <td>    March</td>\n",
133	       "      <td> 11</td>\n",
134	       "      <td> 2015</td>\n",
135	       "      <td>      3000 Seminole Ave</td>\n",
136	       "      <td>   South Gate</td>\n",
137	       "      <td> CA</td>\n",
138	       "      <td>...</td>\n",
139	       "      <td> 98.8</td>\n",
140	       "      <td> 17194</td>\n",
141	       "      <td> 48295</td>\n",
142	       "      <td> 55909</td>\n",
143	       "      <td> 0.863814</td>\n",
144	       "      <td> 3</td>\n",
145	       "      <td> 3</td>\n",
146	       "      <td> 11.7</td>\n",
147	       "      <td> 0.124827</td>\n",
148	       "      <td> 0.050133</td>\n",
149	       "    </tr>\n",
150	       "    <tr>\n",
151	       "      <th>4</th>\n",
152	       "      <td>       Adam Jovicic</td>\n",
153	       "      <td> 29</td>\n",
154	       "      <td> Male</td>\n",
155	       "      <td>           White</td>\n",
156	       "      <td>    March</td>\n",
157	       "      <td> 19</td>\n",
158	       "      <td> 2015</td>\n",
159	       "      <td>         364 Hiwood Ave</td>\n",
160	       "      <td> Munroe Falls</td>\n",
161	       "      <td> OH</td>\n",
162	       "      <td>...</td>\n",
163	       "      <td>  1.7</td>\n",
164	       "      <td> 33954</td>\n",
165	       "      <td> 68785</td>\n",
166	       "      <td> 49669</td>\n",
167	       "      <td> 1.384868</td>\n",
168	       "      <td> 5</td>\n",
169	       "      <td> 4</td>\n",
170	       "      <td>  1.9</td>\n",
171	       "      <td> 0.063550</td>\n",
172	       "      <td> 0.403954</td>\n",
173	       "    </tr>\n",
174	       "  </tbody>\n",
175	       "</table>\n",
176	       "<p>5 rows × 34 columns</p>\n",
177	       "</div>"
178	      ],
179	      "text/plain": [
180	       "                 name age gender    raceethnicity     month  day  year  \\\n",
181	       "0  A'donte Washington  16   Male            Black  February   23  2015   \n",
182	       "1      Aaron Rutledge  27   Male            White     April    2  2015   \n",
183	       "2         Aaron Siler  26   Male            White     March   14  2015   \n",
184	       "3        Aaron Valdez  25   Male  Hispanic/Latino     March   11  2015   \n",
185	       "4        Adam Jovicic  29   Male            White     March   19  2015   \n",
186	       "\n",
187	       "            streetaddress          city state    ...     share_hispanic  \\\n",
188	       "0            Clearview Ln     Millbrook    AL    ...                5.6   \n",
189	       "1  300 block Iris Park Dr     Pineville    LA    ...                0.5   \n",
190	       "2    22nd Ave and 56th St       Kenosha    WI    ...               16.8   \n",
191	       "3       3000 Seminole Ave    South Gate    CA    ...               98.8   \n",
192	       "4          364 Hiwood Ave  Munroe Falls    OH    ...                1.7   \n",
193	       "\n",
194	       "   p_income  h_income  county_income  comp_income  county_bucket  nat_bucket  \\\n",
195	       "0     28375     51367          54766     0.937936              3           3   \n",
196	       "1     14678     27972          40930     0.683411              2           1   \n",
197	       "2     25286     45365          54930     0.825869              2           3   \n",
198	       "3     17194     48295          55909     0.863814              3           3   \n",
199	       "4     33954     68785          49669     1.384868              5           4   \n",
200	       "\n",
201	       "    pov     urate   college  \n",
202	       "0  14.1  0.097686  0.168510  \n",
203	       "1  28.8  0.065724  0.111402  \n",
204	       "2  14.6  0.166293  0.147312  \n",
205	       "3  11.7  0.124827  0.050133  \n",
206	       "4   1.9  0.063550  0.403954  \n",
207	       "\n",
208	       "[5 rows x 34 columns]"
209	      ]
210	     },
211	     "execution_count": 2,
212	     "metadata": {},
213	     "output_type": "execute_result"
214	    }
215	   ],
216	   "source": [
217	    "police_killings.head()"
218	   ]
219	  },
220	  {
221	   "cell_type": "code",
222	   "execution_count": 3,
223	   "metadata": {
224	    "collapsed": false
225	   },
226	   "outputs": [
227	    {
228	     "data": {
229	      "image/png": "iVBORw0KGgoAAAANSUhEUgAAAXIAAAFgCAYAAACmOvKZAAAABHNCSVQICAgIfAhkiAAAAAlwSFlz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\n",
230	      "text/plain": [
231	       "<matplotlib.figure.Figure at 0x7fce532e6d68>"
232	      ]
233	     },
234	     "metadata": {},
235	     "output_type": "display_data"
236	    }
237	   ],
238	   "source": [
239	    "%matplotlib inline\n",
240	    "import matplotlib.pyplot as plt\n",
241	    "import numpy as np\n",
242	    "\n",
243	    "race_counts = police_killings[\"raceethnicity\"].value_counts()\n",
244	    "plt.bar(range(len(race_counts)), race_counts)\n",
245	    "xtickloc = np.array(range(len(race_counts)))+0.5\n",
246	    "plt.xticks(xtickloc, race_counts.index, rotation=90)\n",
247	    "plt.show()"
248	   ]
249	  },
250	  {
251	   "cell_type": "markdown",
252	   "metadata": {},
253	   "source": [
254	    "At first glance, whites make up the majority of police killings, however, upon further inspection, the proportion of whites in the population implies that minorities are being the victims of police shootings at significantly higher rates."
255	   ]
256	  },
257	  {
258	   "cell_type": "code",
259	   "execution_count": 4,
260	   "metadata": {
261	    "collapsed": true
262	   },
263	   "outputs": [],
264	   "source": [
265	    "filt = police_killings[police_killings[\"p_income\"] != '-']"
266	   ]
267	  },
268	  {
269	   "cell_type": "code",
270	   "execution_count": 5,
271	   "metadata": {
272	    "collapsed": false
273	   },
274	   "outputs": [],
275	   "source": [
276	    "income = filt[\"p_income\"]"
277	   ]
278	  },
279	  {
280	   "cell_type": "code",
281	   "execution_count": 6,
282	   "metadata": {
283	    "collapsed": false
284	   },
285	   "outputs": [],
286	   "source": [
287	    "income = income.astype(int)"
288	   ]
289	  },
290	  {
291	   "cell_type": "code",
292	   "execution_count": 7,
293	   "metadata": {
294	    "collapsed": false
295	   },
296	   "outputs": [
297	    {
298	     "data": {
299	      "text/plain": [
300	       "<matplotlib.axes._subplots.AxesSubplot at 0x7fce50c7f2e8>"
301	      ]
302	     },
303	     "execution_count": 7,
304	     "metadata": {},
305	     "output_type": "execute_result"
306	    },
307	    {
308	     "data": {
309	      "image/png": "iVBORw0KGgoAAAANSUhEUgAAAXwAAAEACAYAAACwB81wAAAABHNCSVQICAgIfAhkiAAAAAlwSFlz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\n",
310	      "text/plain": [
311	       "<matplotlib.figure.Figure at 0x7fce532e2b70>"
312	      ]
313	     },
314	     "metadata": {},
315	     "output_type": "display_data"
316	    }
317	   ],
318	   "source": [
319	    "income.hist(bins=30)"
320	   ]
321	  },
322	  {
323	   "cell_type": "code",
324	   "execution_count": 34,
325	   "metadata": {
326	    "collapsed": false
327	   },
328	   "outputs": [],
329	   "source": [
330	    "state_pop = pd.read_csv(\"state_population.csv\")"
331	   ]
332	  },
333	  {
334	   "cell_type": "code",
335	   "execution_count": 40,
336	   "metadata": {
337	    "collapsed": false
338	   },
339	   "outputs": [],
340	   "source": [
341	    "counts = police_killings[\"state_fp\"].value_counts()"
342	   ]
343	  },
344	  {
345	   "cell_type": "code",
346	   "execution_count": 36,
347	   "metadata": {
348	    "collapsed": true
349	   },
350	   "outputs": [],
351	   "source": [
352	    "states = pd.DataFrame({\"STATE\": counts.index, \"shootings\": counts})"
353	   ]
354	  },
355	  {
356	   "cell_type": "code",
357	   "execution_count": 37,
358	   "metadata": {
359	    "collapsed": false
360	   },
361	   "outputs": [],
362	   "source": [
363	    "states = state_pop.merge(states, on=\"STATE\")"
364	   ]
365	  },
366	  {
367	   "cell_type": "code",
368	   "execution_count": 86,
369	   "metadata": {
370	    "collapsed": false
371	   },
372	   "outputs": [
373	    {
374	     "data": {
375	      "text/html": [
376	       "<div style=\"max-height:1000px;max-width:1500px;overflow:auto;\">\n",
377	       "<table border=\"1\" class=\"dataframe\">\n",
378	       "  <thead>\n",
379	       "    <tr style=\"text-align: right;\">\n",
380	       "      <th></th>\n",
381	       "      <th>name</th>\n",
382	       "      <th>age</th>\n",
383	       "      <th>gender</th>\n",
384	       "      <th>raceethnicity</th>\n",
385	       "      <th>month</th>\n",
386	       "      <th>day</th>\n",
387	       "      <th>year</th>\n",
388	       "      <th>streetaddress</th>\n",
389	       "      <th>city</th>\n",
390	       "      <th>state</th>\n",
391	       "      <th>latitude</th>\n",
392	       "      <th>longitude</th>\n",
393	       "      <th>state_fp</th>\n",
394	       "      <th>county_fp</th>\n",
395	       "      <th>tract_ce</th>\n",
396	       "      <th>geo_id</th>\n",
397	       "      <th>county_id</th>\n",
398	       "      <th>namelsad</th>\n",
399	       "      <th>lawenforcementagency</th>\n",
400	       "      <th>cause</th>\n",
401	       "      <th>armed</th>\n",
402	       "      <th>pop</th>\n",
403	       "      <th>share_white</th>\n",
404	       "      <th>share_black</th>\n",
405	       "      <th>share_hispanic</th>\n",
406	       "      <th>p_income</th>\n",
407	       "      <th>h_income</th>\n",
408	       "      <th>county_income</th>\n",
409	       "      <th>comp_income</th>\n",
410	       "      <th>county_bucket</th>\n",
411	       "      <th>nat_bucket</th>\n",
412	       "      <th>pov</th>\n",
413	       "      <th>urate</th>\n",
414	       "      <th>college</th>\n",
415	       "    </tr>\n",
416	       "  </thead>\n",
417	       "  <tbody>\n",
418	       "    <tr>\n",
419	       "      <th>0</th>\n",
420	       "      <td> A'donte Washington</td>\n",
421	       "      <td> 16</td>\n",
422	       "      <td> Male</td>\n",
423	       "      <td>           Black</td>\n",
424	       "      <td> February</td>\n",
425	       "      <td> 23</td>\n",
426	       "      <td> 2015</td>\n",
427	       "      <td>           Clearview Ln</td>\n",
428	       "      <td>    Millbrook</td>\n",
429	       "      <td> AL</td>\n",
430	       "      <td> 32.529577</td>\n",
431	       "      <td> -86.362829</td>\n",
432	       "      <td>  1</td>\n",
433	       "      <td>  51</td>\n",
434	       "      <td>  30902</td>\n",
435	       "      <td>  1051030902</td>\n",
436	       "      <td>  1051</td>\n",
437	       "      <td>  Census Tract 309.02</td>\n",
438	       "      <td>     Millbrook Police Department</td>\n",
439	       "      <td> Gunshot</td>\n",
440	       "      <td>      No</td>\n",
441	       "      <td> 3779</td>\n",
442	       "      <td> 60.5</td>\n",
443	       "      <td> 30.5</td>\n",
444	       "      <td>  5.6</td>\n",
445	       "      <td> 28375</td>\n",
446	       "      <td> 51367</td>\n",
447	       "      <td> 54766</td>\n",
448	       "      <td> 0.937936</td>\n",
449	       "      <td> 3</td>\n",
450	       "      <td> 3</td>\n",
451	       "      <td> 14.1</td>\n",
452	       "      <td> 0.097686</td>\n",
453	       "      <td> 0.168510</td>\n",
454	       "    </tr>\n",
455	       "    <tr>\n",
456	       "      <th>1</th>\n",
457	       "      <td>     Aaron Rutledge</td>\n",
458	       "      <td> 27</td>\n",
459	       "      <td> Male</td>\n",
460	       "      <td>           White</td>\n",
461	       "      <td>    April</td>\n",
462	       "      <td>  2</td>\n",
463	       "      <td> 2015</td>\n",
464	       "      <td> 300 block Iris Park Dr</td>\n",
465	       "      <td>    Pineville</td>\n",
466	       "      <td> LA</td>\n",
467	       "      <td> 31.321739</td>\n",
468	       "      <td> -92.434860</td>\n",
469	       "      <td> 22</td>\n",
470	       "      <td>  79</td>\n",
471	       "      <td>  11700</td>\n",
472	       "      <td> 22079011700</td>\n",
473	       "      <td> 22079</td>\n",
474	       "      <td>     Census Tract 117</td>\n",
475	       "      <td> Rapides Parish Sheriff's Office</td>\n",
476	       "      <td> Gunshot</td>\n",
477	       "      <td>      No</td>\n",
478	       "      <td> 2769</td>\n",
479	       "      <td> 53.8</td>\n",
480	       "      <td> 36.2</td>\n",
481	       "      <td>  0.5</td>\n",
482	       "      <td> 14678</td>\n",
483	       "      <td> 27972</td>\n",
484	       "      <td> 40930</td>\n",
485	       "      <td> 0.683411</td>\n",
486	       "      <td> 2</td>\n",
487	       "      <td> 1</td>\n",
488	       "      <td> 28.8</td>\n",
489	       "      <td> 0.065724</td>\n",
490	       "      <td> 0.111402</td>\n",
491	       "    </tr>\n",
492	       "    <tr>\n",
493	       "      <th>2</th>\n",
494	       "      <td>        Aaron Siler</td>\n",
495	       "      <td> 26</td>\n",
496	       "      <td> Male</td>\n",
497	       "      <td>           White</td>\n",
498	       "      <td>    March</td>\n",
499	       "      <td> 14</td>\n",
500	       "      <td> 2015</td>\n",
501	       "      <td>   22nd Ave and 56th St</td>\n",
502	       "      <td>      Kenosha</td>\n",
503	       "      <td> WI</td>\n",
504	       "      <td> 42.583560</td>\n",
505	       "      <td> -87.835710</td>\n",
506	       "      <td> 55</td>\n",
507	       "      <td>  59</td>\n",
508	       "      <td>   1200</td>\n",
509	       "      <td> 55059001200</td>\n",
510	       "      <td> 55059</td>\n",
511	       "      <td>      Census Tract 12</td>\n",
512	       "      <td>       Kenosha Police Department</td>\n",
513	       "      <td> Gunshot</td>\n",
514	       "      <td>      No</td>\n",
515	       "      <td> 4079</td>\n",
516	       "      <td> 73.8</td>\n",
517	       "      <td>  7.7</td>\n",
518	       "      <td> 16.8</td>\n",
519	       "      <td> 25286</td>\n",
520	       "      <td> 45365</td>\n",
521	       "      <td> 54930</td>\n",
522	       "      <td> 0.825869</td>\n",
523	       "      <td> 2</td>\n",
524	       "      <td> 3</td>\n",
525	       "      <td> 14.6</td>\n",
526	       "      <td> 0.166293</td>\n",
527	       "      <td> 0.147312</td>\n",
528	       "    </tr>\n",
529	       "    <tr>\n",
530	       "      <th>3</th>\n",
531	       "      <td>       Aaron Valdez</td>\n",
532	       "      <td> 25</td>\n",
533	       "      <td> Male</td>\n",
534	       "      <td> Hispanic/Latino</td>\n",
535	       "      <td>    March</td>\n",
536	       "      <td> 11</td>\n",
537	       "      <td> 2015</td>\n",
538	       "      <td>      3000 Seminole Ave</td>\n",
539	       "      <td>   South Gate</td>\n",
540	       "      <td> CA</td>\n",
541	       "      <td> 33.939298</td>\n",
542	       "      <td>-118.219463</td>\n",
543	       "      <td>  6</td>\n",
544	       "      <td>  37</td>\n",
545	       "      <td> 535607</td>\n",
546	       "      <td>  6037535607</td>\n",
547	       "      <td>  6037</td>\n",
548	       "      <td> Census Tract 5356.07</td>\n",
549	       "      <td>    South Gate Police Department</td>\n",
550	       "      <td> Gunshot</td>\n",
551	       "      <td> Firearm</td>\n",
552	       "      <td> 4343</td>\n",
553	       "      <td>  1.2</td>\n",
554	       "      <td>  0.6</td>\n",
555	       "      <td> 98.8</td>\n",
556	       "      <td> 17194</td>\n",
557	       "      <td> 48295</td>\n",
558	       "      <td> 55909</td>\n",
559	       "      <td> 0.863814</td>\n",
560	       "      <td> 3</td>\n",
561	       "      <td> 3</td>\n",
562	       "      <td> 11.7</td>\n",
563	       "      <td> 0.124827</td>\n",
564	       "      <td> 0.050133</td>\n",
565	       "    </tr>\n",
566	       "    <tr>\n",
567	       "      <th>4</th>\n",
568	       "      <td>       Adam Jovicic</td>\n",
569	       "      <td> 29</td>\n",
570	       "      <td> Male</td>\n",
571	       "      <td>           White</td>\n",
572	       "      <td>    March</td>\n",
573	       "      <td> 19</td>\n",
574	       "      <td> 2015</td>\n",
575	       "      <td>         364 Hiwood Ave</td>\n",
576	       "      <td> Munroe Falls</td>\n",
577	       "      <td> OH</td>\n",
578	       "      <td> 41.148575</td>\n",
579	       "      <td> -81.429878</td>\n",
580	       "      <td> 39</td>\n",
581	       "      <td> 153</td>\n",
582	       "      <td> 530800</td>\n",
583	       "      <td> 39153530800</td>\n",
584	       "      <td> 39153</td>\n",
585	       "      <td>    Census Tract 5308</td>\n",
586	       "      <td>          Kent Police Department</td>\n",
587	       "      <td> Gunshot</td>\n",
588	       "      <td>      No</td>\n",
589	       "      <td> 6809</td>\n",
590	       "      <td> 92.5</td>\n",
591	       "      <td>  1.4</td>\n",
592	       "      <td>  1.7</td>\n",
593	       "      <td> 33954</td>\n",
594	       "      <td> 68785</td>\n",
595	       "      <td> 49669</td>\n",
596	       "      <td> 1.384868</td>\n",
597	       "      <td> 5</td>\n",
598	       "      <td> 4</td>\n",
599	       "      <td>  1.9</td>\n",
600	       "      <td> 0.063550</td>\n",
601	       "      <td> 0.403954</td>\n",
602	       "    </tr>\n",
603	       "  </tbody>\n",
604	       "</table>\n",
605	       "</div>"
606	      ],
607	      "text/plain": [
608	       "                 name age gender    raceethnicity     month  day  year  \\\n",
609	       "0  A'donte Washington  16   Male            Black  February   23  2015   \n",
610	       "1      Aaron Rutledge  27   Male            White     April    2  2015   \n",
611	       "2         Aaron Siler  26   Male            White     March   14  2015   \n",
612	       "3        Aaron Valdez  25   Male  Hispanic/Latino     March   11  2015   \n",
613	       "4        Adam Jovicic  29   Male            White     March   19  2015   \n",
614	       "\n",
615	       "            streetaddress          city state   latitude   longitude  \\\n",
616	       "0            Clearview Ln     Millbrook    AL  32.529577  -86.362829   \n",
617	       "1  300 block Iris Park Dr     Pineville    LA  31.321739  -92.434860   \n",
618	       "2    22nd Ave and 56th St       Kenosha    WI  42.583560  -87.835710   \n",
619	       "3       3000 Seminole Ave    South Gate    CA  33.939298 -118.219463   \n",
620	       "4          364 Hiwood Ave  Munroe Falls    OH  41.148575  -81.429878   \n",
621	       "\n",
622	       "   state_fp  county_fp  tract_ce       geo_id  county_id  \\\n",
623	       "0         1         51     30902   1051030902       1051   \n",
624	       "1        22         79     11700  22079011700      22079   \n",
625	       "2        55         59      1200  55059001200      55059   \n",
626	       "3         6         37    535607   6037535607       6037   \n",
627	       "4        39        153    530800  39153530800      39153   \n",
628	       "\n",
629	       "               namelsad             lawenforcementagency    cause    armed  \\\n",
630	       "0   Census Tract 309.02      Millbrook Police Department  Gunshot       No   \n",
631	       "1      Census Tract 117  Rapides Parish Sheriff's Office  Gunshot       No   \n",
632	       "2       Census Tract 12        Kenosha Police Department  Gunshot       No   \n",
633	       "3  Census Tract 5356.07     South Gate Police Department  Gunshot  Firearm   \n",
634	       "4     Census Tract 5308           Kent Police Department  Gunshot       No   \n",
635	       "\n",
636	       "    pop  share_white  share_black  share_hispanic p_income  h_income  \\\n",
637	       "0  3779         60.5         30.5             5.6    28375     51367   \n",
638	       "1  2769         53.8         36.2             0.5    14678     27972   \n",
639	       "2  4079         73.8          7.7            16.8    25286     45365   \n",
640	       "3  4343          1.2          0.6            98.8    17194     48295   \n",
641	       "4  6809         92.5          1.4             1.7    33954     68785   \n",
642	       "\n",
643	       "   county_income  comp_income  county_bucket  nat_bucket   pov     urate  \\\n",
644	       "0          54766     0.937936              3           3  14.1  0.097686   \n",
645	       "1          40930     0.683411              2           1  28.8  0.065724   \n",
646	       "2          54930     0.825869              2           3  14.6  0.166293   \n",
647	       "3          55909     0.863814              3           3  11.7  0.124827   \n",
648	       "4          49669     1.384868              5           4   1.9  0.063550   \n",
649	       "\n",
650	       "    college  \n",
651	       "0  0.168510  \n",
652	       "1  0.111402  \n",
653	       "2  0.147312  \n",
654	       "3  0.050133  \n",
655	       "4  0.403954  "
656	      ]
657	     },
658	     "execution_count": 86,
659	     "metadata": {},
660	     "output_type": "execute_result"
661	    }
662	   ],
663	   "source": [
664	    "states[\"pop_millions\"] = states[\"POPESTIMATE2015\"] / 1000000\n",
665	    "states[\"rate\"] = states[\"shootings\"] / states[\"pop_millions\"]\n",
666	    "df = states.sort(\"shootings\")\n",
667	    "pk_10lowest = df[:10]\n",
668	    "pk_10highest = df[-10:]\n",
669	    "\n",
670	    "\n",
671	    "states['state_fp'] = states.STATE\n",
672	    "\n",
673	    "pk = police_killings[police_killings[\"share_white\"] != '-']\n",
674	    "pk = pk[pk[\"share_black\"] != '-']\n",
675	    "pk = pk[pk[\"share_hispanic\"] != '-']\n",
676	    "\n",
677	    "share_cols = ['share_white', 'share_black', 'share_hispanic']\n",
678	    "pk[share_cols] = pk[share_cols].astype(float)\n",
679	    "\n",
680	    "pk[['state', 'share_white', 'share_black', 'share_hispanic']]\n",
681	    "\n",
682	    "new_pk = states.merge(pk, on=\"state_fp\")\n",
683	    "\n",
684	    "pk.head()\n"
685	   ]
686	  },
687	  {
688	   "cell_type": "code",
689	   "execution_count": 88,
690	   "metadata": {
691	    "collapsed": false
692	   },
693	   "outputs": [],
694	   "source": [
695	    "lowest = list(pk_10lowest.STATE)\n",
696	    "highest = list(pk_10highest.STATE)\n",
697	    "\n",
698	    "new_pk_low = new_pk[new_pk.state_fp.isin(lowest)]\n",
699	    "new_pk_high = new_pk[new_pk.state_fp.isin(highest)]"
700	   ]
701	  },
702	  {
703	   "cell_type": "code",
704	   "execution_count": 93,
705	   "metadata": {
706	    "collapsed": false
707	   },
708	   "outputs": [
709	    {
710	     "name": "stdout",
711	     "output_type": "stream",
712	     "text": [
713	      "                pop  county_income  share_white  share_black  share_hispanic\n",
714	      "count     15.000000      15.000000    15.000000    15.000000       15.000000\n",
715	      "mean    5031.866667   58328.000000    72.173333     9.306667        7.073333\n",
716	      "std     2991.855895   15623.922825    23.165259    12.323929        8.074428\n",
717	      "min     2619.000000   31163.000000    25.500000     0.100000        0.000000\n",
718	      "25%     3246.500000   46917.500000    55.500000     1.250000        2.500000\n",
719	      "50%     4066.000000   59018.000000    75.400000     3.700000        5.200000\n",
720	      "75%     5127.000000   71589.000000    94.200000    12.650000        9.500000\n",
721	      "max    13561.000000   79488.000000    99.600000    45.600000       32.200000\n",
722	      "                pop  county_income  share_white  share_black  share_hispanic\n",
723	      "count    260.000000     260.000000   260.000000   260.000000      260.000000\n",
724	      "mean    5048.934615   53632.969231    45.030000    13.189615       32.118077\n",
725	      "std     2582.080474   12697.837635    28.042125    19.545498       26.853527\n",
726	      "min      732.000000   22545.000000     0.300000     0.000000        0.100000\n",
727	      "25%     3535.750000   45700.000000    20.550000     1.075000        9.650000\n",
728	      "50%     4699.000000   53137.000000    45.600000     5.600000       23.800000\n",
729	      "75%     5923.500000   56853.000000    68.750000    17.550000       50.000000\n",
730	      "max    26826.000000   91702.000000    96.500000    95.600000       98.800000\n"
731	     ]
732	    }
733	   ],
734	   "source": [
735	    "pd.set_option(\"display.max_columns\", None)\n",
736	    "\n",
737	    "cols = ['pop', 'county_income', 'share_white', 'share_black', 'share_hispanic']\n",
738	    "print(new_pk_low[cols].describe())\n",
739	    "print(new_pk_high[cols].describe())\n"
740	   ]
741	  },
742	  {
743	   "cell_type": "code",
744	   "execution_count": 94,
745	   "metadata": {
746	    "collapsed": false
747	   },
748	   "outputs": [],
749	   "source": [
750	    "dummy_low = {}\n",
751	    "dummy_high = {}\n",
752	    "for column in cols:\n",
753	    "    dummy_low[column] = new_pk_low[column].mean()\n",
754	    "    dummy_high[column] = new_pk_high[column].mean()\n",
755	    "    "
756	   ]
757	  },
758	  {
759	   "cell_type": "code",
760	   "execution_count": 96,
761	   "metadata": {
762	    "collapsed": false
763	   },
764	   "outputs": [
765	    {
766	     "name": "stdout",
767	     "output_type": "stream",
768	     "text": [
769	      "{'share_hispanic': 7.0733333333333333, 'share_black': 9.3066666666666666, 'pop': 5031.8666666666668, 'county_income': 58328.0, 'share_white': 72.173333333333346} {'share_hispanic': 32.11807692307692, 'share_black': 13.189615384615385, 'pop': 5048.9346153846154, 'county_income': 53632.969230769231, 'share_white': 45.029999999999994}\n"
770	     ]
771	    }
772	   ],
773	   "source": [
774	    "print(dummy_low, dummy_high)"
775	   ]
776	  },
777	  {
778	   "cell_type": "code",
779	   "execution_count": null,
780	   "metadata": {
781	    "collapsed": true
782	   },
783	   "outputs": [],
784	   "source": []
785	  }
786	 ],
787	 "metadata": {
788	  "kernelspec": {
789	   "display_name": "Python 3",
790	   "language": "python",
791	   "name": "python3"
792	  },
793	  "language_info": {
794	   "codemirror_mode": {
795	    "name": "ipython",
796	    "version": 3
797	   },
798	   "file_extension": ".py",
799	   "mimetype": "text/x-python",
800	   "name": "python",
801	   "nbconvert_exporter": "python",
802	   "pygments_lexer": "ipython3",
803	   "version": "3.4.3"
804	  }
805	 },
806	 "nbformat": 4,
807	 "nbformat_minor": 0
808	}

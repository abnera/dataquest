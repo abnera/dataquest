{
 "cells": [
  {
   "cell_type": "code",
   "execution_count": 1,
   "metadata": {
    "collapsed": false
   },
   "outputs": [],
   "source": [
    "import pandas as pd\n",
    "police_killings = pd.read_csv(\"police_killings.csv\", encoding=\"ISO_8859_1\")"
   ]
  },
  {
   "cell_type": "code",
   "execution_count": 2,
   "metadata": {
    "collapsed": false
   },
   "outputs": [
    {
     "data": {
      "text/html": [
       "<div style=\"max-height:1000px;max-width:1500px;overflow:auto;\">\n",
       "<table border=\"1\" class=\"dataframe\">\n",
       "  <thead>\n",
       "    <tr style=\"text-align: right;\">\n",
       "      <th></th>\n",
       "      <th>name</th>\n",
       "      <th>age</th>\n",
       "      <th>gender</th>\n",
       "      <th>raceethnicity</th>\n",
       "      <th>month</th>\n",
       "      <th>day</th>\n",
       "      <th>year</th>\n",
       "      <th>streetaddress</th>\n",
       "      <th>city</th>\n",
       "      <th>state</th>\n",
       "      <th>...</th>\n",
       "      <th>share_hispanic</th>\n",
       "      <th>p_income</th>\n",
       "      <th>h_income</th>\n",
       "      <th>county_income</th>\n",
       "      <th>comp_income</th>\n",
       "      <th>county_bucket</th>\n",
       "      <th>nat_bucket</th>\n",
       "      <th>pov</th>\n",
       "      <th>urate</th>\n",
       "      <th>college</th>\n",
       "    </tr>\n",
       "  </thead>\n",
       "  <tbody>\n",
       "    <tr>\n",
       "      <th>0</th>\n",
       "      <td> A'donte Washington</td>\n",
       "      <td> 16</td>\n",
       "      <td> Male</td>\n",
       "      <td>           Black</td>\n",
       "      <td> February</td>\n",
       "      <td> 23</td>\n",
       "      <td> 2015</td>\n",
       "      <td>           Clearview Ln</td>\n",
       "      <td>    Millbrook</td>\n",
       "      <td> AL</td>\n",
       "      <td>...</td>\n",
       "      <td>  5.6</td>\n",
       "      <td> 28375</td>\n",
       "      <td> 51367</td>\n",
       "      <td> 54766</td>\n",
       "      <td> 0.937936</td>\n",
       "      <td> 3</td>\n",
       "      <td> 3</td>\n",
       "      <td> 14.1</td>\n",
       "      <td> 0.097686</td>\n",
       "      <td> 0.168510</td>\n",
       "    </tr>\n",
       "    <tr>\n",
       "      <th>1</th>\n",
       "      <td>     Aaron Rutledge</td>\n",
       "      <td> 27</td>\n",
       "      <td> Male</td>\n",
       "      <td>           White</td>\n",
       "      <td>    April</td>\n",
       "      <td>  2</td>\n",
       "      <td> 2015</td>\n",
       "      <td> 300 block Iris Park Dr</td>\n",
       "      <td>    Pineville</td>\n",
       "      <td> LA</td>\n",
       "      <td>...</td>\n",
       "      <td>  0.5</td>\n",
       "      <td> 14678</td>\n",
       "      <td> 27972</td>\n",
       "      <td> 40930</td>\n",
       "      <td> 0.683411</td>\n",
       "      <td> 2</td>\n",
       "      <td> 1</td>\n",
       "      <td> 28.8</td>\n",
       "      <td> 0.065724</td>\n",
       "      <td> 0.111402</td>\n",
       "    </tr>\n",
       "    <tr>\n",
       "      <th>2</th>\n",
       "      <td>        Aaron Siler</td>\n",
       "      <td> 26</td>\n",
       "      <td> Male</td>\n",
       "      <td>           White</td>\n",
       "      <td>    March</td>\n",
       "      <td> 14</td>\n",
       "      <td> 2015</td>\n",
       "      <td>   22nd Ave and 56th St</td>\n",
       "      <td>      Kenosha</td>\n",
       "      <td> WI</td>\n",
       "      <td>...</td>\n",
       "      <td> 16.8</td>\n",
       "      <td> 25286</td>\n",
       "      <td> 45365</td>\n",
       "      <td> 54930</td>\n",
       "      <td> 0.825869</td>\n",
       "      <td> 2</td>\n",
       "      <td> 3</td>\n",
       "      <td> 14.6</td>\n",
       "      <td> 0.166293</td>\n",
       "      <td> 0.147312</td>\n",
       "    </tr>\n",
       "    <tr>\n",
       "      <th>3</th>\n",
       "      <td>       Aaron Valdez</td>\n",
       "      <td> 25</td>\n",
       "      <td> Male</td>\n",
       "      <td> Hispanic/Latino</td>\n",
       "      <td>    March</td>\n",
       "      <td> 11</td>\n",
       "      <td> 2015</td>\n",
       "      <td>      3000 Seminole Ave</td>\n",
       "      <td>   South Gate</td>\n",
       "      <td> CA</td>\n",
       "      <td>...</td>\n",
       "      <td> 98.8</td>\n",
       "      <td> 17194</td>\n",
       "      <td> 48295</td>\n",
       "      <td> 55909</td>\n",
       "      <td> 0.863814</td>\n",
       "      <td> 3</td>\n",
       "      <td> 3</td>\n",
       "      <td> 11.7</td>\n",
       "      <td> 0.124827</td>\n",
       "      <td> 0.050133</td>\n",
       "    </tr>\n",
       "    <tr>\n",
       "      <th>4</th>\n",
       "      <td>       Adam Jovicic</td>\n",
       "      <td> 29</td>\n",
       "      <td> Male</td>\n",
       "      <td>           White</td>\n",
       "      <td>    March</td>\n",
       "      <td> 19</td>\n",
       "      <td> 2015</td>\n",
       "      <td>         364 Hiwood Ave</td>\n",
       "      <td> Munroe Falls</td>\n",
       "      <td> OH</td>\n",
       "      <td>...</td>\n",
       "      <td>  1.7</td>\n",
       "      <td> 33954</td>\n",
       "      <td> 68785</td>\n",
       "      <td> 49669</td>\n",
       "      <td> 1.384868</td>\n",
       "      <td> 5</td>\n",
       "      <td> 4</td>\n",
       "      <td>  1.9</td>\n",
       "      <td> 0.063550</td>\n",
       "      <td> 0.403954</td>\n",
       "    </tr>\n",
       "  </tbody>\n",
       "</table>\n",
       "<p>5 rows × 34 columns</p>\n",
       "</div>"
      ],
      "text/plain": [
       "                 name age gender    raceethnicity     month  day  year  \\\n",
       "0  A'donte Washington  16   Male            Black  February   23  2015   \n",
       "1      Aaron Rutledge  27   Male            White     April    2  2015   \n",
       "2         Aaron Siler  26   Male            White     March   14  2015   \n",
       "3        Aaron Valdez  25   Male  Hispanic/Latino     March   11  2015   \n",
       "4        Adam Jovicic  29   Male            White     March   19  2015   \n",
       "\n",
       "            streetaddress          city state    ...     share_hispanic  \\\n",
       "0            Clearview Ln     Millbrook    AL    ...                5.6   \n",
       "1  300 block Iris Park Dr     Pineville    LA    ...                0.5   \n",
       "2    22nd Ave and 56th St       Kenosha    WI    ...               16.8   \n",
       "3       3000 Seminole Ave    South Gate    CA    ...               98.8   \n",
       "4          364 Hiwood Ave  Munroe Falls    OH    ...                1.7   \n",
       "\n",
       "   p_income  h_income  county_income  comp_income  county_bucket  nat_bucket  \\\n",
       "0     28375     51367          54766     0.937936              3           3   \n",
       "1     14678     27972          40930     0.683411              2           1   \n",
       "2     25286     45365          54930     0.825869              2           3   \n",
       "3     17194     48295          55909     0.863814              3           3   \n",
       "4     33954     68785          49669     1.384868              5           4   \n",
       "\n",
       "    pov     urate   college  \n",
       "0  14.1  0.097686  0.168510  \n",
       "1  28.8  0.065724  0.111402  \n",
       "2  14.6  0.166293  0.147312  \n",
       "3  11.7  0.124827  0.050133  \n",
       "4   1.9  0.063550  0.403954  \n",
       "\n",
       "[5 rows x 34 columns]"
      ]
     },
     "execution_count": 2,
     "metadata": {},
     "output_type": "execute_result"
    }
   ],
   "source": [
    "police_killings.head()"
   ]
  },
  {
   "cell_type": "code",
   "execution_count": 3,
   "metadata": {
    "collapsed": false
   },
   "outputs": [
    {
     "data": {
      "image/png": "[encoded data removed]",
      "text/plain": [
       "<matplotlib.figure.Figure at 0x7fce532e6d68>"
      ]
     },
     "metadata": {},
     "output_type": "display_data"
    }
   ],
   "source": [
    "%matplotlib inline\n",
    "import matplotlib.pyplot as plt\n",
    "import numpy as np\n",
    "\n",
    "race_counts = police_killings[\"raceethnicity\"].value_counts()\n",
    "plt.bar(range(len(race_counts)), race_counts)\n",
    "xtickloc = np.array(range(len(race_counts)))+0.5\n",
    "plt.xticks(xtickloc, race_counts.index, rotation=90)\n",
    "plt.show()"
   ]
  },
  {
   "cell_type": "markdown",
   "metadata": {},
   "source": [
    "At first glance, whites make up the majority of police killings, however, upon further inspection, the proportion of whites in the population implies that minorities are being the victims of police shootings at significantly higher rates."
   ]
  },
  {
   "cell_type": "code",
   "execution_count": 4,
   "metadata": {
    "collapsed": true
   },
   "outputs": [],
   "source": [
    "filt = police_killings[police_killings[\"p_income\"] != '-']"
   ]
  },
  {
   "cell_type": "code",
   "execution_count": 5,
   "metadata": {
    "collapsed": false
   },
   "outputs": [],
   "source": [
    "income = filt[\"p_income\"]"
   ]
  },
  {
   "cell_type": "code",
   "execution_count": 6,
   "metadata": {
    "collapsed": false
   },
   "outputs": [],
   "source": [
    "income = income.astype(int)"
   ]
  },
  {
   "cell_type": "code",
   "execution_count": 7,
   "metadata": {
    "collapsed": false
   },
   "outputs": [
    {
     "data": {
      "text/plain": [
       "<matplotlib.axes._subplots.AxesSubplot at 0x7fce50c7f2e8>"
      ]
     },
     "execution_count": 7,
     "metadata": {},
     "output_type": "execute_result"
    },
    {
     "data": {
      "image/png": "[encoded data removed]",
      "text/plain": [
       "<matplotlib.figure.Figure at 0x7fce532e2b70>"
      ]
     },
     "metadata": {},
     "output_type": "display_data"
    }
   ],
   "source": [
    "income.hist(bins=30)"
   ]
  },
  {
   "cell_type": "code",
   "execution_count": 34,
   "metadata": {
    "collapsed": false
   },
   "outputs": [],
   "source": [
    "state_pop = pd.read_csv(\"state_population.csv\")"
   ]
  },
  {
   "cell_type": "code",
   "execution_count": 40,
   "metadata": {
    "collapsed": false
   },
   "outputs": [],
   "source": [
    "counts = police_killings[\"state_fp\"].value_counts()"
   ]
  },
  {
   "cell_type": "code",
   "execution_count": 36,
   "metadata": {
    "collapsed": true
   },
   "outputs": [],
   "source": [
    "states = pd.DataFrame({\"STATE\": counts.index, \"shootings\": counts})"
   ]
  },
  {
   "cell_type": "code",
   "execution_count": 37,
   "metadata": {
    "collapsed": false
   },
   "outputs": [],
   "source": [
    "states = state_pop.merge(states, on=\"STATE\")"
   ]
  },
  {
   "cell_type": "code",
   "execution_count": 86,
   "metadata": {
    "collapsed": false
   },
   "outputs": [
    {
     "data": {
      "text/html": [
       "<div style=\"max-height:1000px;max-width:1500px;overflow:auto;\">\n",
       "<table border=\"1\" class=\"dataframe\">\n",
       "  <thead>\n",
       "    <tr style=\"text-align: right;\">\n",
       "      <th></th>\n",
       "      <th>name</th>\n",
       "      <th>age</th>\n",
       "      <th>gender</th>\n",
       "      <th>raceethnicity</th>\n",
       "      <th>month</th>\n",
       "      <th>day</th>\n",
       "      <th>year</th>\n",
       "      <th>streetaddress</th>\n",
       "      <th>city</th>\n",
       "      <th>state</th>\n",
       "      <th>latitude</th>\n",
       "      <th>longitude</th>\n",
       "      <th>state_fp</th>\n",
       "      <th>county_fp</th>\n",
       "      <th>tract_ce</th>\n",
       "      <th>geo_id</th>\n",
       "      <th>county_id</th>\n",
       "      <th>namelsad</th>\n",
       "      <th>lawenforcementagency</th>\n",
       "      <th>cause</th>\n",
       "      <th>armed</th>\n",
       "      <th>pop</th>\n",
       "      <th>share_white</th>\n",
       "      <th>share_black</th>\n",
       "      <th>share_hispanic</th>\n",
       "      <th>p_income</th>\n",
       "      <th>h_income</th>\n",
       "      <th>county_income</th>\n",
       "      <th>comp_income</th>\n",
       "      <th>county_bucket</th>\n",
       "      <th>nat_bucket</th>\n",
       "      <th>pov</th>\n",
       "      <th>urate</th>\n",
       "      <th>college</th>\n",
       "    </tr>\n",
       "  </thead>\n",
       "  <tbody>\n",
       "    <tr>\n",
       "      <th>0</th>\n",
       "      <td> A'donte Washington</td>\n",
       "      <td> 16</td>\n",
       "      <td> Male</td>\n",
       "      <td>           Black</td>\n",
       "      <td> February</td>\n",
       "      <td> 23</td>\n",
       "      <td> 2015</td>\n",
       "      <td>           Clearview Ln</td>\n",
       "      <td>    Millbrook</td>\n",
       "      <td> AL</td>\n",
       "      <td> 32.529577</td>\n",
       "      <td> -86.362829</td>\n",
       "      <td>  1</td>\n",
       "      <td>  51</td>\n",
       "      <td>  30902</td>\n",
       "      <td>  1051030902</td>\n",
       "      <td>  1051</td>\n",
       "      <td>  Census Tract 309.02</td>\n",
       "      <td>     Millbrook Police Department</td>\n",
       "      <td> Gunshot</td>\n",
       "      <td>      No</td>\n",
       "      <td> 3779</td>\n",
       "      <td> 60.5</td>\n",
       "      <td> 30.5</td>\n",
       "      <td>  5.6</td>\n",
       "      <td> 28375</td>\n",
       "      <td> 51367</td>\n",
       "      <td> 54766</td>\n",
       "      <td> 0.937936</td>\n",
       "      <td> 3</td>\n",
       "      <td> 3</td>\n",
       "      <td> 14.1</td>\n",
       "      <td> 0.097686</td>\n",
       "      <td> 0.168510</td>\n",
       "    </tr>\n",
       "    <tr>\n",
       "      <th>1</th>\n",
       "      <td>     Aaron Rutledge</td>\n",
       "      <td> 27</td>\n",
       "      <td> Male</td>\n",
       "      <td>           White</td>\n",
       "      <td>    April</td>\n",
       "      <td>  2</td>\n",
       "      <td> 2015</td>\n",
       "      <td> 300 block Iris Park Dr</td>\n",
       "      <td>    Pineville</td>\n",
       "      <td> LA</td>\n",
       "      <td> 31.321739</td>\n",
       "      <td> -92.434860</td>\n",
       "      <td> 22</td>\n",
       "      <td>  79</td>\n",
       "      <td>  11700</td>\n",
       "      <td> 22079011700</td>\n",
       "      <td> 22079</td>\n",
       "      <td>     Census Tract 117</td>\n",
       "      <td> Rapides Parish Sheriff's Office</td>\n",
       "      <td> Gunshot</td>\n",
       "      <td>      No</td>\n",
       "      <td> 2769</td>\n",
       "      <td> 53.8</td>\n",
       "      <td> 36.2</td>\n",
       "      <td>  0.5</td>\n",
       "      <td> 14678</td>\n",
       "      <td> 27972</td>\n",
       "      <td> 40930</td>\n",
       "      <td> 0.683411</td>\n",
       "      <td> 2</td>\n",
       "      <td> 1</td>\n",
       "      <td> 28.8</td>\n",
       "      <td> 0.065724</td>\n",
       "      <td> 0.111402</td>\n",
       "    </tr>\n",
       "    <tr>\n",
       "      <th>2</th>\n",
       "      <td>        Aaron Siler</td>\n",
       "      <td> 26</td>\n",
       "      <td> Male</td>\n",
       "      <td>           White</td>\n",
       "      <td>    March</td>\n",
       "      <td> 14</td>\n",
       "      <td> 2015</td>\n",
       "      <td>   22nd Ave and 56th St</td>\n",
       "      <td>      Kenosha</td>\n",
       "      <td> WI</td>\n",
       "      <td> 42.583560</td>\n",
       "      <td> -87.835710</td>\n",
       "      <td> 55</td>\n",
       "      <td>  59</td>\n",
       "      <td>   1200</td>\n",
       "      <td> 55059001200</td>\n",
       "      <td> 55059</td>\n",
       "      <td>      Census Tract 12</td>\n",
       "      <td>       Kenosha Police Department</td>\n",
       "      <td> Gunshot</td>\n",
       "      <td>      No</td>\n",
       "      <td> 4079</td>\n",
       "      <td> 73.8</td>\n",
       "      <td>  7.7</td>\n",
       "      <td> 16.8</td>\n",
       "      <td> 25286</td>\n",
       "      <td> 45365</td>\n",
       "      <td> 54930</td>\n",
       "      <td> 0.825869</td>\n",
       "      <td> 2</td>\n",
       "      <td> 3</td>\n",
       "      <td> 14.6</td>\n",
       "      <td> 0.166293</td>\n",
       "      <td> 0.147312</td>\n",
       "    </tr>\n",
       "    <tr>\n",
       "      <th>3</th>\n",
       "      <td>       Aaron Valdez</td>\n",
       "      <td> 25</td>\n",
       "      <td> Male</td>\n",
       "      <td> Hispanic/Latino</td>\n",
       "      <td>    March</td>\n",
       "      <td> 11</td>\n",
       "      <td> 2015</td>\n",
       "      <td>      3000 Seminole Ave</td>\n",
       "      <td>   South Gate</td>\n",
       "      <td> CA</td>\n",
       "      <td> 33.939298</td>\n",
       "      <td>-118.219463</td>\n",
       "      <td>  6</td>\n",
       "      <td>  37</td>\n",
       "      <td> 535607</td>\n",
       "      <td>  6037535607</td>\n",
       "      <td>  6037</td>\n",
       "      <td> Census Tract 5356.07</td>\n",
       "      <td>    South Gate Police Department</td>\n",
       "      <td> Gunshot</td>\n",
       "      <td> Firearm</td>\n",
       "      <td> 4343</td>\n",
       "      <td>  1.2</td>\n",
       "      <td>  0.6</td>\n",
       "      <td> 98.8</td>\n",
       "      <td> 17194</td>\n",
       "      <td> 48295</td>\n",
       "      <td> 55909</td>\n",
       "      <td> 0.863814</td>\n",
       "      <td> 3</td>\n",
       "      <td> 3</td>\n",
       "      <td> 11.7</td>\n",
       "      <td> 0.124827</td>\n",
       "      <td> 0.050133</td>\n",
       "    </tr>\n",
       "    <tr>\n",
       "      <th>4</th>\n",
       "      <td>       Adam Jovicic</td>\n",
       "      <td> 29</td>\n",
       "      <td> Male</td>\n",
       "      <td>           White</td>\n",
       "      <td>    March</td>\n",
       "      <td> 19</td>\n",
       "      <td> 2015</td>\n",
       "      <td>         364 Hiwood Ave</td>\n",
       "      <td> Munroe Falls</td>\n",
       "      <td> OH</td>\n",
       "      <td> 41.148575</td>\n",
       "      <td> -81.429878</td>\n",
       "      <td> 39</td>\n",
       "      <td> 153</td>\n",
       "      <td> 530800</td>\n",
       "      <td> 39153530800</td>\n",
       "      <td> 39153</td>\n",
       "      <td>    Census Tract 5308</td>\n",
       "      <td>          Kent Police Department</td>\n",
       "      <td> Gunshot</td>\n",
       "      <td>      No</td>\n",
       "      <td> 6809</td>\n",
       "      <td> 92.5</td>\n",
       "      <td>  1.4</td>\n",
       "      <td>  1.7</td>\n",
       "      <td> 33954</td>\n",
       "      <td> 68785</td>\n",
       "      <td> 49669</td>\n",
       "      <td> 1.384868</td>\n",
       "      <td> 5</td>\n",
       "      <td> 4</td>\n",
       "      <td>  1.9</td>\n",
       "      <td> 0.063550</td>\n",
       "      <td> 0.403954</td>\n",
       "    </tr>\n",
       "  </tbody>\n",
       "</table>\n",
       "</div>"
      ],
      "text/plain": [
       "                 name age gender    raceethnicity     month  day  year  \\\n",
       "0  A'donte Washington  16   Male            Black  February   23  2015   \n",
       "1      Aaron Rutledge  27   Male            White     April    2  2015   \n",
       "2         Aaron Siler  26   Male            White     March   14  2015   \n",
       "3        Aaron Valdez  25   Male  Hispanic/Latino     March   11  2015   \n",
       "4        Adam Jovicic  29   Male            White     March   19  2015   \n",
       "\n",
       "            streetaddress          city state   latitude   longitude  \\\n",
       "0            Clearview Ln     Millbrook    AL  32.529577  -86.362829   \n",
       "1  300 block Iris Park Dr     Pineville    LA  31.321739  -92.434860   \n",
       "2    22nd Ave and 56th St       Kenosha    WI  42.583560  -87.835710   \n",
       "3       3000 Seminole Ave    South Gate    CA  33.939298 -118.219463   \n",
       "4          364 Hiwood Ave  Munroe Falls    OH  41.148575  -81.429878   \n",
       "\n",
       "   state_fp  county_fp  tract_ce       geo_id  county_id  \\\n",
       "0         1         51     30902   1051030902       1051   \n",
       "1        22         79     11700  22079011700      22079   \n",
       "2        55         59      1200  55059001200      55059   \n",
       "3         6         37    535607   6037535607       6037   \n",
       "4        39        153    530800  39153530800      39153   \n",
       "\n",
       "               namelsad             lawenforcementagency    cause    armed  \\\n",
       "0   Census Tract 309.02      Millbrook Police Department  Gunshot       No   \n",
       "1      Census Tract 117  Rapides Parish Sheriff's Office  Gunshot       No   \n",
       "2       Census Tract 12        Kenosha Police Department  Gunshot       No   \n",
       "3  Census Tract 5356.07     South Gate Police Department  Gunshot  Firearm   \n",
       "4     Census Tract 5308           Kent Police Department  Gunshot       No   \n",
       "\n",
       "    pop  share_white  share_black  share_hispanic p_income  h_income  \\\n",
       "0  3779         60.5         30.5             5.6    28375     51367   \n",
       "1  2769         53.8         36.2             0.5    14678     27972   \n",
       "2  4079         73.8          7.7            16.8    25286     45365   \n",
       "3  4343          1.2          0.6            98.8    17194     48295   \n",
       "4  6809         92.5          1.4             1.7    33954     68785   \n",
       "\n",
       "   county_income  comp_income  county_bucket  nat_bucket   pov     urate  \\\n",
       "0          54766     0.937936              3           3  14.1  0.097686   \n",
       "1          40930     0.683411              2           1  28.8  0.065724   \n",
       "2          54930     0.825869              2           3  14.6  0.166293   \n",
       "3          55909     0.863814              3           3  11.7  0.124827   \n",
       "4          49669     1.384868              5           4   1.9  0.063550   \n",
       "\n",
       "    college  \n",
       "0  0.168510  \n",
       "1  0.111402  \n",
       "2  0.147312  \n",
       "3  0.050133  \n",
       "4  0.403954  "
      ]
     },
     "execution_count": 86,
     "metadata": {},
     "output_type": "execute_result"
    }
   ],
   "source": [
    "states[\"pop_millions\"] = states[\"POPESTIMATE2015\"] / 1000000\n",
    "states[\"rate\"] = states[\"shootings\"] / states[\"pop_millions\"]\n",
    "df = states.sort(\"shootings\")\n",
    "pk_10lowest = df[:10]\n",
    "pk_10highest = df[-10:]\n",
    "\n",
    "\n",
    "states['state_fp'] = states.STATE\n",
    "\n",
    "pk = police_killings[police_killings[\"share_white\"] != '-']\n",
    "pk = pk[pk[\"share_black\"] != '-']\n",
    "pk = pk[pk[\"share_hispanic\"] != '-']\n",
    "\n",
    "share_cols = ['share_white', 'share_black', 'share_hispanic']\n",
    "pk[share_cols] = pk[share_cols].astype(float)\n",
    "\n",
    "pk[['state', 'share_white', 'share_black', 'share_hispanic']]\n",
    "\n",
    "new_pk = states.merge(pk, on=\"state_fp\")\n",
    "\n",
    "pk.head()\n"
   ]
  },
  {
   "cell_type": "code",
   "execution_count": 88,
   "metadata": {
    "collapsed": false
   },
   "outputs": [],
   "source": [
    "lowest = list(pk_10lowest.STATE)\n",
    "highest = list(pk_10highest.STATE)\n",
    "\n",
    "new_pk_low = new_pk[new_pk.state_fp.isin(lowest)]\n",
    "new_pk_high = new_pk[new_pk.state_fp.isin(highest)]"
   ]
  },
  {
   "cell_type": "code",
   "execution_count": 93,
   "metadata": {
    "collapsed": false
   },
   "outputs": [
    {
     "name": "stdout",
     "output_type": "stream",
     "text": [
      "                pop  county_income  share_white  share_black  share_hispanic\n",
      "count     15.000000      15.000000    15.000000    15.000000       15.000000\n",
      "mean    5031.866667   58328.000000    72.173333     9.306667        7.073333\n",
      "std     2991.855895   15623.922825    23.165259    12.323929        8.074428\n",
      "min     2619.000000   31163.000000    25.500000     0.100000        0.000000\n",
      "25%     3246.500000   46917.500000    55.500000     1.250000        2.500000\n",
      "50%     4066.000000   59018.000000    75.400000     3.700000        5.200000\n",
      "75%     5127.000000   71589.000000    94.200000    12.650000        9.500000\n",
      "max    13561.000000   79488.000000    99.600000    45.600000       32.200000\n",
      "                pop  county_income  share_white  share_black  share_hispanic\n",
      "count    260.000000     260.000000   260.000000   260.000000      260.000000\n",
      "mean    5048.934615   53632.969231    45.030000    13.189615       32.118077\n",
      "std     2582.080474   12697.837635    28.042125    19.545498       26.853527\n",
      "min      732.000000   22545.000000     0.300000     0.000000        0.100000\n",
      "25%     3535.750000   45700.000000    20.550000     1.075000        9.650000\n",
      "50%     4699.000000   53137.000000    45.600000     5.600000       23.800000\n",
      "75%     5923.500000   56853.000000    68.750000    17.550000       50.000000\n",
      "max    26826.000000   91702.000000    96.500000    95.600000       98.800000\n"
     ]
    }
   ],
   "source": [
    "pd.set_option(\"display.max_columns\", None)\n",
    "\n",
    "cols = ['pop', 'county_income', 'share_white', 'share_black', 'share_hispanic']\n",
    "print(new_pk_low[cols].describe())\n",
    "print(new_pk_high[cols].describe())\n"
   ]
  },
  {
   "cell_type": "code",
   "execution_count": 94,
   "metadata": {
    "collapsed": false
   },
   "outputs": [],
   "source": [
    "dummy_low = {}\n",
    "dummy_high = {}\n",
    "for column in cols:\n",
    "    dummy_low[column] = new_pk_low[column].mean()\n",
    "    dummy_high[column] = new_pk_high[column].mean()\n",
    "    "
   ]
  },
  {
   "cell_type": "code",
   "execution_count": 96,
   "metadata": {
    "collapsed": false
   },
   "outputs": [
    {
     "name": "stdout",
     "output_type": "stream",
     "text": [
      "{'share_hispanic': 7.0733333333333333, 'share_black': 9.3066666666666666, 'pop': 5031.8666666666668, 'county_income': 58328.0, 'share_white': 72.173333333333346} {'share_hispanic': 32.11807692307692, 'share_black': 13.189615384615385, 'pop': 5048.9346153846154, 'county_income': 53632.969230769231, 'share_white': 45.029999999999994}\n"
     ]
    }
   ],
   "source": [
    "print(dummy_low, dummy_high)"
   ]
  },
  {
   "cell_type": "code",
   "execution_count": null,
   "metadata": {
    "collapsed": true
   },
   "outputs": [],
   "source": []
  }
 ],
 "metadata": {
  "kernelspec": {
   "display_name": "Python 3",
   "language": "python",
   "name": "python3"
  },
  "language_info": {
   "codemirror_mode": {
    "name": "ipython",
    "version": 3
   },
   "file_extension": ".py",
   "mimetype": "text/x-python",
   "name": "python",
   "nbconvert_exporter": "python",
   "pygments_lexer": "ipython3",
   "version": "3.4.3"
  }
 },
 "nbformat": 4,
 "nbformat_minor": 0
}
